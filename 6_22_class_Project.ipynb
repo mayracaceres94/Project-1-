{
  "nbformat": 4,
  "nbformat_minor": 0,
  "metadata": {
    "colab": {
      "name": "6/22 class Project",
      "provenance": [],
      "collapsed_sections": [],
      "authorship_tag": "ABX9TyO57WpFNHj7FediPrZqavZ3",
      "include_colab_link": true
    },
    "kernelspec": {
      "name": "python3",
      "display_name": "Python 3"
    },
    "language_info": {
      "name": "python"
    }
  },
  "cells": [
    {
      "cell_type": "markdown",
      "metadata": {
        "id": "view-in-github",
        "colab_type": "text"
      },
      "source": [
        "<a href=\"https://colab.research.google.com/github/mayracaceres94/Project-1-/blob/main/6_22_class_Project.ipynb\" target=\"_parent\"><img src=\"https://colab.research.google.com/assets/colab-badge.svg\" alt=\"Open In Colab\"/></a>"
      ]
    },
    {
      "cell_type": "code",
      "metadata": {
        "id": "co50svAzwBGq"
      },
      "source": [
        "import seaborn as sns\n",
        "%matplotlib inline"
      ],
      "execution_count": 49,
      "outputs": []
    },
    {
      "cell_type": "code",
      "metadata": {
        "id": "mesWFkii1iZM"
      },
      "source": [
        "import pandas as pd\n",
        "import numpy as np"
      ],
      "execution_count": 50,
      "outputs": []
    },
    {
      "cell_type": "code",
      "metadata": {
        "id": "bqzwOSENqnY8"
      },
      "source": [
        "import matplotlib.pyplot as plt"
      ],
      "execution_count": 92,
      "outputs": []
    },
    {
      "cell_type": "code",
      "metadata": {
        "id": "xHj69JJH6UnJ"
      },
      "source": [
        "df = pd.read_csv('https://raw.githubusercontent.com/CunyLaguardiaDataAnalytics/datasets/master/2014-15_To_2016-17_School-_Level_NYC_Regents_Report_For_All_Variables.csv')"
      ],
      "execution_count": 52,
      "outputs": []
    },
    {
      "cell_type": "code",
      "metadata": {
        "colab": {
          "base_uri": "https://localhost:8080/",
          "height": 306
        },
        "id": "Bm8OhbWZ6sXJ",
        "outputId": "3ace540c-a3df-49cd-8a6d-702b98d0189b"
      },
      "source": [
        "#data overview \n",
        "df.head()"
      ],
      "execution_count": 53,
      "outputs": [
        {
          "output_type": "execute_result",
          "data": {
            "text/html": [
              "<div>\n",
              "<style scoped>\n",
              "    .dataframe tbody tr th:only-of-type {\n",
              "        vertical-align: middle;\n",
              "    }\n",
              "\n",
              "    .dataframe tbody tr th {\n",
              "        vertical-align: top;\n",
              "    }\n",
              "\n",
              "    .dataframe thead th {\n",
              "        text-align: right;\n",
              "    }\n",
              "</style>\n",
              "<table border=\"1\" class=\"dataframe\">\n",
              "  <thead>\n",
              "    <tr style=\"text-align: right;\">\n",
              "      <th></th>\n",
              "      <th>School DBN</th>\n",
              "      <th>School Name</th>\n",
              "      <th>School Level</th>\n",
              "      <th>Regents Exam</th>\n",
              "      <th>Year</th>\n",
              "      <th>Total Tested</th>\n",
              "      <th>Mean Score</th>\n",
              "      <th>Number Scoring Below 65</th>\n",
              "      <th>Percent Scoring Below 65</th>\n",
              "      <th>Number Scoring 65 or Above</th>\n",
              "      <th>Percent Scoring 65 or Above</th>\n",
              "      <th>Number Scoring 80 or Above</th>\n",
              "      <th>Percent Scoring 80 or Above</th>\n",
              "      <th>Number Scoring CR</th>\n",
              "      <th>Percent Scoring CR</th>\n",
              "    </tr>\n",
              "  </thead>\n",
              "  <tbody>\n",
              "    <tr>\n",
              "      <th>0</th>\n",
              "      <td>01M034</td>\n",
              "      <td>P.S. 034 Franklin D. Roosevelt</td>\n",
              "      <td>K-8</td>\n",
              "      <td>Common Core Algebra</td>\n",
              "      <td>2017</td>\n",
              "      <td>4</td>\n",
              "      <td>s</td>\n",
              "      <td>s</td>\n",
              "      <td>s</td>\n",
              "      <td>s</td>\n",
              "      <td>s</td>\n",
              "      <td>s</td>\n",
              "      <td>s</td>\n",
              "      <td>na</td>\n",
              "      <td>na</td>\n",
              "    </tr>\n",
              "    <tr>\n",
              "      <th>1</th>\n",
              "      <td>01M034</td>\n",
              "      <td>P.S. 034 Franklin D. Roosevelt</td>\n",
              "      <td>K-8</td>\n",
              "      <td>Living Environment</td>\n",
              "      <td>2015</td>\n",
              "      <td>16</td>\n",
              "      <td>77.9</td>\n",
              "      <td>1</td>\n",
              "      <td>6.3</td>\n",
              "      <td>15</td>\n",
              "      <td>93.8</td>\n",
              "      <td>7</td>\n",
              "      <td>43.8</td>\n",
              "      <td>na</td>\n",
              "      <td>na</td>\n",
              "    </tr>\n",
              "    <tr>\n",
              "      <th>2</th>\n",
              "      <td>01M034</td>\n",
              "      <td>P.S. 034 Franklin D. Roosevelt</td>\n",
              "      <td>K-8</td>\n",
              "      <td>Living Environment</td>\n",
              "      <td>2016</td>\n",
              "      <td>9</td>\n",
              "      <td>74</td>\n",
              "      <td>1</td>\n",
              "      <td>11.1</td>\n",
              "      <td>8</td>\n",
              "      <td>88.9</td>\n",
              "      <td>2</td>\n",
              "      <td>22.2</td>\n",
              "      <td>na</td>\n",
              "      <td>na</td>\n",
              "    </tr>\n",
              "    <tr>\n",
              "      <th>3</th>\n",
              "      <td>01M140</td>\n",
              "      <td>P.S. 140 Nathan Straus</td>\n",
              "      <td>K-8</td>\n",
              "      <td>Common Core Algebra</td>\n",
              "      <td>2016</td>\n",
              "      <td>3</td>\n",
              "      <td>s</td>\n",
              "      <td>s</td>\n",
              "      <td>s</td>\n",
              "      <td>s</td>\n",
              "      <td>s</td>\n",
              "      <td>s</td>\n",
              "      <td>s</td>\n",
              "      <td>na</td>\n",
              "      <td>na</td>\n",
              "    </tr>\n",
              "    <tr>\n",
              "      <th>4</th>\n",
              "      <td>01M140</td>\n",
              "      <td>P.S. 140 Nathan Straus</td>\n",
              "      <td>K-8</td>\n",
              "      <td>Common Core Algebra</td>\n",
              "      <td>2017</td>\n",
              "      <td>2</td>\n",
              "      <td>s</td>\n",
              "      <td>s</td>\n",
              "      <td>s</td>\n",
              "      <td>s</td>\n",
              "      <td>s</td>\n",
              "      <td>s</td>\n",
              "      <td>s</td>\n",
              "      <td>na</td>\n",
              "      <td>na</td>\n",
              "    </tr>\n",
              "  </tbody>\n",
              "</table>\n",
              "</div>"
            ],
            "text/plain": [
              "  School DBN  ... Percent Scoring CR\n",
              "0     01M034  ...                 na\n",
              "1     01M034  ...                 na\n",
              "2     01M034  ...                 na\n",
              "3     01M140  ...                 na\n",
              "4     01M140  ...                 na\n",
              "\n",
              "[5 rows x 15 columns]"
            ]
          },
          "metadata": {
            "tags": []
          },
          "execution_count": 53
        }
      ]
    },
    {
      "cell_type": "code",
      "metadata": {
        "colab": {
          "base_uri": "https://localhost:8080/"
        },
        "id": "oUEFH0A56zSC",
        "outputId": "d50815b4-6a0e-480a-f8be-509361e7bcd9"
      },
      "source": [
        "#data overview \n",
        "df['School Name']"
      ],
      "execution_count": 54,
      "outputs": [
        {
          "output_type": "execute_result",
          "data": {
            "text/plain": [
              "0         P.S. 034 Franklin D. Roosevelt\n",
              "1         P.S. 034 Franklin D. Roosevelt\n",
              "2         P.S. 034 Franklin D. Roosevelt\n",
              "3                 P.S. 140 Nathan Straus\n",
              "4                 P.S. 140 Nathan Straus\n",
              "                       ...              \n",
              "212326              Icahn Charter School\n",
              "212327              Icahn Charter School\n",
              "212328              Icahn Charter School\n",
              "212329              Icahn Charter School\n",
              "212330              Icahn Charter School\n",
              "Name: School Name, Length: 212331, dtype: object"
            ]
          },
          "metadata": {
            "tags": []
          },
          "execution_count": 54
        }
      ]
    },
    {
      "cell_type": "code",
      "metadata": {
        "id": "QdjWnrOBzyR2"
      },
      "source": [
        "#Mean Score data should be numeric\n",
        "df['Mean Score']=pd.to_numeric(df['Mean Score'], errors= 'coerce')"
      ],
      "execution_count": 56,
      "outputs": []
    },
    {
      "cell_type": "code",
      "metadata": {
        "colab": {
          "base_uri": "https://localhost:8080/"
        },
        "id": "pYj1Ibnu9YjW",
        "outputId": "f2ca9359-cc14-4ef0-92da-67a2beb92fb0"
      },
      "source": [
        "#data overview \n",
        "df.count()"
      ],
      "execution_count": 55,
      "outputs": [
        {
          "output_type": "execute_result",
          "data": {
            "text/plain": [
              "School DBN                     212331\n",
              "School Name                    212331\n",
              "School Level                   212331\n",
              "Regents Exam                   212321\n",
              "Year                           212331\n",
              "Total Tested                   212331\n",
              "Mean Score                     212331\n",
              "Number Scoring Below 65        212331\n",
              "Percent Scoring Below 65       212331\n",
              "Number Scoring 65 or Above     212331\n",
              "Percent Scoring 65 or Above    212331\n",
              "Number Scoring 80 or Above     212331\n",
              "Percent Scoring 80 or Above    212331\n",
              "Number Scoring CR              212331\n",
              "Percent Scoring CR             212331\n",
              "dtype: int64"
            ]
          },
          "metadata": {
            "tags": []
          },
          "execution_count": 55
        }
      ]
    },
    {
      "cell_type": "code",
      "metadata": {
        "colab": {
          "base_uri": "https://localhost:8080/",
          "height": 419
        },
        "id": "heQdXPLh-O6D",
        "outputId": "dedb0aef-bff4-4b3c-f29e-c052a5176046"
      },
      "source": [
        "#new data set for FHHS only \n",
        "df[df['School Name']== 'Forest Hills High School']\n"
      ],
      "execution_count": 82,
      "outputs": [
        {
          "output_type": "execute_result",
          "data": {
            "text/html": [
              "<div>\n",
              "<style scoped>\n",
              "    .dataframe tbody tr th:only-of-type {\n",
              "        vertical-align: middle;\n",
              "    }\n",
              "\n",
              "    .dataframe tbody tr th {\n",
              "        vertical-align: top;\n",
              "    }\n",
              "\n",
              "    .dataframe thead th {\n",
              "        text-align: right;\n",
              "    }\n",
              "</style>\n",
              "<table border=\"1\" class=\"dataframe\">\n",
              "  <thead>\n",
              "    <tr style=\"text-align: right;\">\n",
              "      <th></th>\n",
              "      <th>School DBN</th>\n",
              "      <th>School Name</th>\n",
              "      <th>School Level</th>\n",
              "      <th>Regents Exam</th>\n",
              "      <th>Year</th>\n",
              "      <th>Total Tested</th>\n",
              "      <th>Mean Score</th>\n",
              "    </tr>\n",
              "  </thead>\n",
              "  <tbody>\n",
              "    <tr>\n",
              "      <th>15578</th>\n",
              "      <td>28Q440</td>\n",
              "      <td>Forest Hills High School</td>\n",
              "      <td>High school</td>\n",
              "      <td>Algebra2/Trigonometry</td>\n",
              "      <td>2015</td>\n",
              "      <td>562</td>\n",
              "      <td>73.4</td>\n",
              "    </tr>\n",
              "    <tr>\n",
              "      <th>15579</th>\n",
              "      <td>28Q440</td>\n",
              "      <td>Forest Hills High School</td>\n",
              "      <td>High school</td>\n",
              "      <td>Algebra2/Trigonometry</td>\n",
              "      <td>2016</td>\n",
              "      <td>650</td>\n",
              "      <td>73.2</td>\n",
              "    </tr>\n",
              "    <tr>\n",
              "      <th>15580</th>\n",
              "      <td>28Q440</td>\n",
              "      <td>Forest Hills High School</td>\n",
              "      <td>High school</td>\n",
              "      <td>Algebra2/Trigonometry</td>\n",
              "      <td>2017</td>\n",
              "      <td>6</td>\n",
              "      <td>58.7</td>\n",
              "    </tr>\n",
              "    <tr>\n",
              "      <th>15581</th>\n",
              "      <td>28Q440</td>\n",
              "      <td>Forest Hills High School</td>\n",
              "      <td>High school</td>\n",
              "      <td>Common Core Algebra</td>\n",
              "      <td>2015</td>\n",
              "      <td>442</td>\n",
              "      <td>69.2</td>\n",
              "    </tr>\n",
              "    <tr>\n",
              "      <th>15582</th>\n",
              "      <td>28Q440</td>\n",
              "      <td>Forest Hills High School</td>\n",
              "      <td>High school</td>\n",
              "      <td>Common Core Algebra</td>\n",
              "      <td>2016</td>\n",
              "      <td>861</td>\n",
              "      <td>73.0</td>\n",
              "    </tr>\n",
              "    <tr>\n",
              "      <th>...</th>\n",
              "      <td>...</td>\n",
              "      <td>...</td>\n",
              "      <td>...</td>\n",
              "      <td>...</td>\n",
              "      <td>...</td>\n",
              "      <td>...</td>\n",
              "      <td>...</td>\n",
              "    </tr>\n",
              "    <tr>\n",
              "      <th>198696</th>\n",
              "      <td>28Q440</td>\n",
              "      <td>Forest Hills High School</td>\n",
              "      <td>High school</td>\n",
              "      <td>U.S. History and Government</td>\n",
              "      <td>2017</td>\n",
              "      <td>245</td>\n",
              "      <td>87.7</td>\n",
              "    </tr>\n",
              "    <tr>\n",
              "      <th>198697</th>\n",
              "      <td>28Q440</td>\n",
              "      <td>Forest Hills High School</td>\n",
              "      <td>High school</td>\n",
              "      <td>U.S. History and Government</td>\n",
              "      <td>2017</td>\n",
              "      <td>89</td>\n",
              "      <td>79.8</td>\n",
              "    </tr>\n",
              "    <tr>\n",
              "      <th>198698</th>\n",
              "      <td>28Q440</td>\n",
              "      <td>Forest Hills High School</td>\n",
              "      <td>High school</td>\n",
              "      <td>U.S. History and Government</td>\n",
              "      <td>2017</td>\n",
              "      <td>334</td>\n",
              "      <td>79.8</td>\n",
              "    </tr>\n",
              "    <tr>\n",
              "      <th>198699</th>\n",
              "      <td>28Q440</td>\n",
              "      <td>Forest Hills High School</td>\n",
              "      <td>High school</td>\n",
              "      <td>U.S. History and Government</td>\n",
              "      <td>2017</td>\n",
              "      <td>29</td>\n",
              "      <td>83.6</td>\n",
              "    </tr>\n",
              "    <tr>\n",
              "      <th>198700</th>\n",
              "      <td>28Q440</td>\n",
              "      <td>Forest Hills High School</td>\n",
              "      <td>High school</td>\n",
              "      <td>U.S. History and Government</td>\n",
              "      <td>2017</td>\n",
              "      <td>286</td>\n",
              "      <td>83.6</td>\n",
              "    </tr>\n",
              "  </tbody>\n",
              "</table>\n",
              "<p>486 rows × 7 columns</p>\n",
              "</div>"
            ],
            "text/plain": [
              "       School DBN               School Name  ... Total Tested Mean Score\n",
              "15578      28Q440  Forest Hills High School  ...          562       73.4\n",
              "15579      28Q440  Forest Hills High School  ...          650       73.2\n",
              "15580      28Q440  Forest Hills High School  ...            6       58.7\n",
              "15581      28Q440  Forest Hills High School  ...          442       69.2\n",
              "15582      28Q440  Forest Hills High School  ...          861       73.0\n",
              "...           ...                       ...  ...          ...        ...\n",
              "198696     28Q440  Forest Hills High School  ...          245       87.7\n",
              "198697     28Q440  Forest Hills High School  ...           89       79.8\n",
              "198698     28Q440  Forest Hills High School  ...          334       79.8\n",
              "198699     28Q440  Forest Hills High School  ...           29       83.6\n",
              "198700     28Q440  Forest Hills High School  ...          286       83.6\n",
              "\n",
              "[486 rows x 7 columns]"
            ]
          },
          "metadata": {
            "tags": []
          },
          "execution_count": 82
        }
      ]
    },
    {
      "cell_type": "code",
      "metadata": {
        "colab": {
          "base_uri": "https://localhost:8080/"
        },
        "id": "ZzI0Dcrk--iD",
        "outputId": "30bd5f64-bd4c-4b14-dba9-7697ae61b4bb"
      },
      "source": [
        "#data overview\n",
        "df ['Regents Exam']"
      ],
      "execution_count": 59,
      "outputs": [
        {
          "output_type": "execute_result",
          "data": {
            "text/plain": [
              "0                 Common Core Algebra\n",
              "1                  Living Environment\n",
              "2                  Living Environment\n",
              "3                 Common Core Algebra\n",
              "4                 Common Core Algebra\n",
              "                     ...             \n",
              "212326             Living Environment\n",
              "212327             Living Environment\n",
              "212328             Living Environment\n",
              "212329             Living Environment\n",
              "212330    U.S. History and Government\n",
              "Name: Regents Exam, Length: 212331, dtype: object"
            ]
          },
          "metadata": {
            "tags": []
          },
          "execution_count": 59
        }
      ]
    },
    {
      "cell_type": "code",
      "metadata": {
        "colab": {
          "base_uri": "https://localhost:8080/",
          "height": 419
        },
        "id": "GZ_Wa7XKAx3I",
        "outputId": "33932901-db07-4d31-dd4a-ccea6f767d05"
      },
      "source": [
        "#data overview \n",
        "df[['School Name','Regents Exam']]"
      ],
      "execution_count": 60,
      "outputs": [
        {
          "output_type": "execute_result",
          "data": {
            "text/html": [
              "<div>\n",
              "<style scoped>\n",
              "    .dataframe tbody tr th:only-of-type {\n",
              "        vertical-align: middle;\n",
              "    }\n",
              "\n",
              "    .dataframe tbody tr th {\n",
              "        vertical-align: top;\n",
              "    }\n",
              "\n",
              "    .dataframe thead th {\n",
              "        text-align: right;\n",
              "    }\n",
              "</style>\n",
              "<table border=\"1\" class=\"dataframe\">\n",
              "  <thead>\n",
              "    <tr style=\"text-align: right;\">\n",
              "      <th></th>\n",
              "      <th>School Name</th>\n",
              "      <th>Regents Exam</th>\n",
              "    </tr>\n",
              "  </thead>\n",
              "  <tbody>\n",
              "    <tr>\n",
              "      <th>0</th>\n",
              "      <td>P.S. 034 Franklin D. Roosevelt</td>\n",
              "      <td>Common Core Algebra</td>\n",
              "    </tr>\n",
              "    <tr>\n",
              "      <th>1</th>\n",
              "      <td>P.S. 034 Franklin D. Roosevelt</td>\n",
              "      <td>Living Environment</td>\n",
              "    </tr>\n",
              "    <tr>\n",
              "      <th>2</th>\n",
              "      <td>P.S. 034 Franklin D. Roosevelt</td>\n",
              "      <td>Living Environment</td>\n",
              "    </tr>\n",
              "    <tr>\n",
              "      <th>3</th>\n",
              "      <td>P.S. 140 Nathan Straus</td>\n",
              "      <td>Common Core Algebra</td>\n",
              "    </tr>\n",
              "    <tr>\n",
              "      <th>4</th>\n",
              "      <td>P.S. 140 Nathan Straus</td>\n",
              "      <td>Common Core Algebra</td>\n",
              "    </tr>\n",
              "    <tr>\n",
              "      <th>...</th>\n",
              "      <td>...</td>\n",
              "      <td>...</td>\n",
              "    </tr>\n",
              "    <tr>\n",
              "      <th>212326</th>\n",
              "      <td>Icahn Charter School</td>\n",
              "      <td>Living Environment</td>\n",
              "    </tr>\n",
              "    <tr>\n",
              "      <th>212327</th>\n",
              "      <td>Icahn Charter School</td>\n",
              "      <td>Living Environment</td>\n",
              "    </tr>\n",
              "    <tr>\n",
              "      <th>212328</th>\n",
              "      <td>Icahn Charter School</td>\n",
              "      <td>Living Environment</td>\n",
              "    </tr>\n",
              "    <tr>\n",
              "      <th>212329</th>\n",
              "      <td>Icahn Charter School</td>\n",
              "      <td>Living Environment</td>\n",
              "    </tr>\n",
              "    <tr>\n",
              "      <th>212330</th>\n",
              "      <td>Icahn Charter School</td>\n",
              "      <td>U.S. History and Government</td>\n",
              "    </tr>\n",
              "  </tbody>\n",
              "</table>\n",
              "<p>212331 rows × 2 columns</p>\n",
              "</div>"
            ],
            "text/plain": [
              "                           School Name                 Regents Exam\n",
              "0       P.S. 034 Franklin D. Roosevelt          Common Core Algebra\n",
              "1       P.S. 034 Franklin D. Roosevelt           Living Environment\n",
              "2       P.S. 034 Franklin D. Roosevelt           Living Environment\n",
              "3               P.S. 140 Nathan Straus          Common Core Algebra\n",
              "4               P.S. 140 Nathan Straus          Common Core Algebra\n",
              "...                                ...                          ...\n",
              "212326            Icahn Charter School           Living Environment\n",
              "212327            Icahn Charter School           Living Environment\n",
              "212328            Icahn Charter School           Living Environment\n",
              "212329            Icahn Charter School           Living Environment\n",
              "212330            Icahn Charter School  U.S. History and Government\n",
              "\n",
              "[212331 rows x 2 columns]"
            ]
          },
          "metadata": {
            "tags": []
          },
          "execution_count": 60
        }
      ]
    },
    {
      "cell_type": "code",
      "metadata": {
        "id": "tgA3gMXH4Lg-"
      },
      "source": [
        "#drop columns \n",
        "drop_cols=['Number Scoring Below 65', 'Percent Scoring Below 65', 'Number Scoring 65 or Above', 'Percent Scoring 65 or Above', 'Number Scoring 80 or Above', 'Percent Scoring 80 or Above', 'Number Scoring CR', 'Percent Scoring CR']\n",
        "df.drop(drop_cols, inplace =True, axis=1)\n"
      ],
      "execution_count": 61,
      "outputs": []
    },
    {
      "cell_type": "code",
      "metadata": {
        "colab": {
          "base_uri": "https://localhost:8080/",
          "height": 1000
        },
        "id": "H3VKv-9RH69d",
        "outputId": "089f3a87-94be-4fbb-95d6-509777cdd646"
      },
      "source": [
        "#filter out data for Forest Hills High School and the U.S. History and Governement Reagents Exam\n",
        "df[df['School Name']== 'Forest Hills High School'] \n",
        "df2= df[(df['Regents Exam']== 'U.S. History and Government')& (df['School Name']== 'Forest Hills High School')]\n",
        "display(df2)"
      ],
      "execution_count": 62,
      "outputs": [
        {
          "output_type": "display_data",
          "data": {
            "text/html": [
              "<div>\n",
              "<style scoped>\n",
              "    .dataframe tbody tr th:only-of-type {\n",
              "        vertical-align: middle;\n",
              "    }\n",
              "\n",
              "    .dataframe tbody tr th {\n",
              "        vertical-align: top;\n",
              "    }\n",
              "\n",
              "    .dataframe thead th {\n",
              "        text-align: right;\n",
              "    }\n",
              "</style>\n",
              "<table border=\"1\" class=\"dataframe\">\n",
              "  <thead>\n",
              "    <tr style=\"text-align: right;\">\n",
              "      <th></th>\n",
              "      <th>School DBN</th>\n",
              "      <th>School Name</th>\n",
              "      <th>School Level</th>\n",
              "      <th>Regents Exam</th>\n",
              "      <th>Year</th>\n",
              "      <th>Total Tested</th>\n",
              "      <th>Mean Score</th>\n",
              "    </tr>\n",
              "  </thead>\n",
              "  <tbody>\n",
              "    <tr>\n",
              "      <th>15613</th>\n",
              "      <td>28Q440</td>\n",
              "      <td>Forest Hills High School</td>\n",
              "      <td>High school</td>\n",
              "      <td>U.S. History and Government</td>\n",
              "      <td>2015</td>\n",
              "      <td>948</td>\n",
              "      <td>82.6</td>\n",
              "    </tr>\n",
              "    <tr>\n",
              "      <th>15614</th>\n",
              "      <td>28Q440</td>\n",
              "      <td>Forest Hills High School</td>\n",
              "      <td>High school</td>\n",
              "      <td>U.S. History and Government</td>\n",
              "      <td>2016</td>\n",
              "      <td>931</td>\n",
              "      <td>83.2</td>\n",
              "    </tr>\n",
              "    <tr>\n",
              "      <th>15615</th>\n",
              "      <td>28Q440</td>\n",
              "      <td>Forest Hills High School</td>\n",
              "      <td>High school</td>\n",
              "      <td>U.S. History and Government</td>\n",
              "      <td>2017</td>\n",
              "      <td>983</td>\n",
              "      <td>83.0</td>\n",
              "    </tr>\n",
              "    <tr>\n",
              "      <th>47377</th>\n",
              "      <td>28Q440</td>\n",
              "      <td>Forest Hills High School</td>\n",
              "      <td>High school</td>\n",
              "      <td>U.S. History and Government</td>\n",
              "      <td>2015</td>\n",
              "      <td>843</td>\n",
              "      <td>84.4</td>\n",
              "    </tr>\n",
              "    <tr>\n",
              "      <th>47378</th>\n",
              "      <td>28Q440</td>\n",
              "      <td>Forest Hills High School</td>\n",
              "      <td>High school</td>\n",
              "      <td>U.S. History and Government</td>\n",
              "      <td>2015</td>\n",
              "      <td>105</td>\n",
              "      <td>67.5</td>\n",
              "    </tr>\n",
              "    <tr>\n",
              "      <th>47379</th>\n",
              "      <td>28Q440</td>\n",
              "      <td>Forest Hills High School</td>\n",
              "      <td>High school</td>\n",
              "      <td>U.S. History and Government</td>\n",
              "      <td>2016</td>\n",
              "      <td>808</td>\n",
              "      <td>85.3</td>\n",
              "    </tr>\n",
              "    <tr>\n",
              "      <th>47380</th>\n",
              "      <td>28Q440</td>\n",
              "      <td>Forest Hills High School</td>\n",
              "      <td>High school</td>\n",
              "      <td>U.S. History and Government</td>\n",
              "      <td>2016</td>\n",
              "      <td>123</td>\n",
              "      <td>69.8</td>\n",
              "    </tr>\n",
              "    <tr>\n",
              "      <th>47381</th>\n",
              "      <td>28Q440</td>\n",
              "      <td>Forest Hills High School</td>\n",
              "      <td>High school</td>\n",
              "      <td>U.S. History and Government</td>\n",
              "      <td>2017</td>\n",
              "      <td>874</td>\n",
              "      <td>85.5</td>\n",
              "    </tr>\n",
              "    <tr>\n",
              "      <th>47382</th>\n",
              "      <td>28Q440</td>\n",
              "      <td>Forest Hills High School</td>\n",
              "      <td>High school</td>\n",
              "      <td>U.S. History and Government</td>\n",
              "      <td>2017</td>\n",
              "      <td>109</td>\n",
              "      <td>62.6</td>\n",
              "    </tr>\n",
              "    <tr>\n",
              "      <th>93661</th>\n",
              "      <td>28Q440</td>\n",
              "      <td>Forest Hills High School</td>\n",
              "      <td>High school</td>\n",
              "      <td>U.S. History and Government</td>\n",
              "      <td>2015</td>\n",
              "      <td>59</td>\n",
              "      <td>65.9</td>\n",
              "    </tr>\n",
              "    <tr>\n",
              "      <th>93662</th>\n",
              "      <td>28Q440</td>\n",
              "      <td>Forest Hills High School</td>\n",
              "      <td>High school</td>\n",
              "      <td>U.S. History and Government</td>\n",
              "      <td>2015</td>\n",
              "      <td>615</td>\n",
              "      <td>84.1</td>\n",
              "    </tr>\n",
              "    <tr>\n",
              "      <th>93663</th>\n",
              "      <td>28Q440</td>\n",
              "      <td>Forest Hills High School</td>\n",
              "      <td>High school</td>\n",
              "      <td>U.S. History and Government</td>\n",
              "      <td>2015</td>\n",
              "      <td>274</td>\n",
              "      <td>82.6</td>\n",
              "    </tr>\n",
              "    <tr>\n",
              "      <th>93664</th>\n",
              "      <td>28Q440</td>\n",
              "      <td>Forest Hills High School</td>\n",
              "      <td>High school</td>\n",
              "      <td>U.S. History and Government</td>\n",
              "      <td>2016</td>\n",
              "      <td>37</td>\n",
              "      <td>67.6</td>\n",
              "    </tr>\n",
              "    <tr>\n",
              "      <th>93665</th>\n",
              "      <td>28Q440</td>\n",
              "      <td>Forest Hills High School</td>\n",
              "      <td>High school</td>\n",
              "      <td>U.S. History and Government</td>\n",
              "      <td>2016</td>\n",
              "      <td>621</td>\n",
              "      <td>84.0</td>\n",
              "    </tr>\n",
              "    <tr>\n",
              "      <th>93666</th>\n",
              "      <td>28Q440</td>\n",
              "      <td>Forest Hills High School</td>\n",
              "      <td>High school</td>\n",
              "      <td>U.S. History and Government</td>\n",
              "      <td>2016</td>\n",
              "      <td>273</td>\n",
              "      <td>83.7</td>\n",
              "    </tr>\n",
              "    <tr>\n",
              "      <th>93667</th>\n",
              "      <td>28Q440</td>\n",
              "      <td>Forest Hills High School</td>\n",
              "      <td>High school</td>\n",
              "      <td>U.S. History and Government</td>\n",
              "      <td>2017</td>\n",
              "      <td>46</td>\n",
              "      <td>69.0</td>\n",
              "    </tr>\n",
              "    <tr>\n",
              "      <th>93668</th>\n",
              "      <td>28Q440</td>\n",
              "      <td>Forest Hills High School</td>\n",
              "      <td>High school</td>\n",
              "      <td>U.S. History and Government</td>\n",
              "      <td>2017</td>\n",
              "      <td>657</td>\n",
              "      <td>83.7</td>\n",
              "    </tr>\n",
              "    <tr>\n",
              "      <th>93670</th>\n",
              "      <td>28Q440</td>\n",
              "      <td>Forest Hills High School</td>\n",
              "      <td>High school</td>\n",
              "      <td>U.S. History and Government</td>\n",
              "      <td>2017</td>\n",
              "      <td>280</td>\n",
              "      <td>83.5</td>\n",
              "    </tr>\n",
              "    <tr>\n",
              "      <th>132575</th>\n",
              "      <td>28Q440</td>\n",
              "      <td>Forest Hills High School</td>\n",
              "      <td>High school</td>\n",
              "      <td>U.S. History and Government</td>\n",
              "      <td>2015</td>\n",
              "      <td>496</td>\n",
              "      <td>83.8</td>\n",
              "    </tr>\n",
              "    <tr>\n",
              "      <th>132576</th>\n",
              "      <td>28Q440</td>\n",
              "      <td>Forest Hills High School</td>\n",
              "      <td>High school</td>\n",
              "      <td>U.S. History and Government</td>\n",
              "      <td>2015</td>\n",
              "      <td>452</td>\n",
              "      <td>81.3</td>\n",
              "    </tr>\n",
              "    <tr>\n",
              "      <th>132577</th>\n",
              "      <td>28Q440</td>\n",
              "      <td>Forest Hills High School</td>\n",
              "      <td>High school</td>\n",
              "      <td>U.S. History and Government</td>\n",
              "      <td>2016</td>\n",
              "      <td>451</td>\n",
              "      <td>84.0</td>\n",
              "    </tr>\n",
              "    <tr>\n",
              "      <th>132578</th>\n",
              "      <td>28Q440</td>\n",
              "      <td>Forest Hills High School</td>\n",
              "      <td>High school</td>\n",
              "      <td>U.S. History and Government</td>\n",
              "      <td>2016</td>\n",
              "      <td>480</td>\n",
              "      <td>82.6</td>\n",
              "    </tr>\n",
              "    <tr>\n",
              "      <th>132579</th>\n",
              "      <td>28Q440</td>\n",
              "      <td>Forest Hills High School</td>\n",
              "      <td>High school</td>\n",
              "      <td>U.S. History and Government</td>\n",
              "      <td>2017</td>\n",
              "      <td>548</td>\n",
              "      <td>84.1</td>\n",
              "    </tr>\n",
              "    <tr>\n",
              "      <th>132580</th>\n",
              "      <td>28Q440</td>\n",
              "      <td>Forest Hills High School</td>\n",
              "      <td>High school</td>\n",
              "      <td>U.S. History and Government</td>\n",
              "      <td>2017</td>\n",
              "      <td>435</td>\n",
              "      <td>81.5</td>\n",
              "    </tr>\n",
              "    <tr>\n",
              "      <th>198686</th>\n",
              "      <td>28Q440</td>\n",
              "      <td>Forest Hills High School</td>\n",
              "      <td>High school</td>\n",
              "      <td>U.S. History and Government</td>\n",
              "      <td>2015</td>\n",
              "      <td>233</td>\n",
              "      <td>86.7</td>\n",
              "    </tr>\n",
              "    <tr>\n",
              "      <th>198687</th>\n",
              "      <td>28Q440</td>\n",
              "      <td>Forest Hills High School</td>\n",
              "      <td>High school</td>\n",
              "      <td>U.S. History and Government</td>\n",
              "      <td>2015</td>\n",
              "      <td>106</td>\n",
              "      <td>79.8</td>\n",
              "    </tr>\n",
              "    <tr>\n",
              "      <th>198688</th>\n",
              "      <td>28Q440</td>\n",
              "      <td>Forest Hills High School</td>\n",
              "      <td>High school</td>\n",
              "      <td>U.S. History and Government</td>\n",
              "      <td>2015</td>\n",
              "      <td>298</td>\n",
              "      <td>79.6</td>\n",
              "    </tr>\n",
              "    <tr>\n",
              "      <th>198689</th>\n",
              "      <td>28Q440</td>\n",
              "      <td>Forest Hills High School</td>\n",
              "      <td>High school</td>\n",
              "      <td>U.S. History and Government</td>\n",
              "      <td>2015</td>\n",
              "      <td>14</td>\n",
              "      <td>84.1</td>\n",
              "    </tr>\n",
              "    <tr>\n",
              "      <th>198690</th>\n",
              "      <td>28Q440</td>\n",
              "      <td>Forest Hills High School</td>\n",
              "      <td>High school</td>\n",
              "      <td>U.S. History and Government</td>\n",
              "      <td>2015</td>\n",
              "      <td>297</td>\n",
              "      <td>83.2</td>\n",
              "    </tr>\n",
              "    <tr>\n",
              "      <th>198691</th>\n",
              "      <td>28Q440</td>\n",
              "      <td>Forest Hills High School</td>\n",
              "      <td>High school</td>\n",
              "      <td>U.S. History and Government</td>\n",
              "      <td>2016</td>\n",
              "      <td>233</td>\n",
              "      <td>88.1</td>\n",
              "    </tr>\n",
              "    <tr>\n",
              "      <th>198692</th>\n",
              "      <td>28Q440</td>\n",
              "      <td>Forest Hills High School</td>\n",
              "      <td>High school</td>\n",
              "      <td>U.S. History and Government</td>\n",
              "      <td>2016</td>\n",
              "      <td>83</td>\n",
              "      <td>80.3</td>\n",
              "    </tr>\n",
              "    <tr>\n",
              "      <th>198693</th>\n",
              "      <td>28Q440</td>\n",
              "      <td>Forest Hills High School</td>\n",
              "      <td>High school</td>\n",
              "      <td>U.S. History and Government</td>\n",
              "      <td>2016</td>\n",
              "      <td>298</td>\n",
              "      <td>80.1</td>\n",
              "    </tr>\n",
              "    <tr>\n",
              "      <th>198694</th>\n",
              "      <td>28Q440</td>\n",
              "      <td>Forest Hills High School</td>\n",
              "      <td>High school</td>\n",
              "      <td>U.S. History and Government</td>\n",
              "      <td>2016</td>\n",
              "      <td>37</td>\n",
              "      <td>83.9</td>\n",
              "    </tr>\n",
              "    <tr>\n",
              "      <th>198695</th>\n",
              "      <td>28Q440</td>\n",
              "      <td>Forest Hills High School</td>\n",
              "      <td>High school</td>\n",
              "      <td>U.S. History and Government</td>\n",
              "      <td>2016</td>\n",
              "      <td>280</td>\n",
              "      <td>83.4</td>\n",
              "    </tr>\n",
              "    <tr>\n",
              "      <th>198696</th>\n",
              "      <td>28Q440</td>\n",
              "      <td>Forest Hills High School</td>\n",
              "      <td>High school</td>\n",
              "      <td>U.S. History and Government</td>\n",
              "      <td>2017</td>\n",
              "      <td>245</td>\n",
              "      <td>87.7</td>\n",
              "    </tr>\n",
              "    <tr>\n",
              "      <th>198697</th>\n",
              "      <td>28Q440</td>\n",
              "      <td>Forest Hills High School</td>\n",
              "      <td>High school</td>\n",
              "      <td>U.S. History and Government</td>\n",
              "      <td>2017</td>\n",
              "      <td>89</td>\n",
              "      <td>79.8</td>\n",
              "    </tr>\n",
              "    <tr>\n",
              "      <th>198698</th>\n",
              "      <td>28Q440</td>\n",
              "      <td>Forest Hills High School</td>\n",
              "      <td>High school</td>\n",
              "      <td>U.S. History and Government</td>\n",
              "      <td>2017</td>\n",
              "      <td>334</td>\n",
              "      <td>79.8</td>\n",
              "    </tr>\n",
              "    <tr>\n",
              "      <th>198699</th>\n",
              "      <td>28Q440</td>\n",
              "      <td>Forest Hills High School</td>\n",
              "      <td>High school</td>\n",
              "      <td>U.S. History and Government</td>\n",
              "      <td>2017</td>\n",
              "      <td>29</td>\n",
              "      <td>83.6</td>\n",
              "    </tr>\n",
              "    <tr>\n",
              "      <th>198700</th>\n",
              "      <td>28Q440</td>\n",
              "      <td>Forest Hills High School</td>\n",
              "      <td>High school</td>\n",
              "      <td>U.S. History and Government</td>\n",
              "      <td>2017</td>\n",
              "      <td>286</td>\n",
              "      <td>83.6</td>\n",
              "    </tr>\n",
              "  </tbody>\n",
              "</table>\n",
              "</div>"
            ],
            "text/plain": [
              "       School DBN               School Name  ... Total Tested Mean Score\n",
              "15613      28Q440  Forest Hills High School  ...          948       82.6\n",
              "15614      28Q440  Forest Hills High School  ...          931       83.2\n",
              "15615      28Q440  Forest Hills High School  ...          983       83.0\n",
              "47377      28Q440  Forest Hills High School  ...          843       84.4\n",
              "47378      28Q440  Forest Hills High School  ...          105       67.5\n",
              "47379      28Q440  Forest Hills High School  ...          808       85.3\n",
              "47380      28Q440  Forest Hills High School  ...          123       69.8\n",
              "47381      28Q440  Forest Hills High School  ...          874       85.5\n",
              "47382      28Q440  Forest Hills High School  ...          109       62.6\n",
              "93661      28Q440  Forest Hills High School  ...           59       65.9\n",
              "93662      28Q440  Forest Hills High School  ...          615       84.1\n",
              "93663      28Q440  Forest Hills High School  ...          274       82.6\n",
              "93664      28Q440  Forest Hills High School  ...           37       67.6\n",
              "93665      28Q440  Forest Hills High School  ...          621       84.0\n",
              "93666      28Q440  Forest Hills High School  ...          273       83.7\n",
              "93667      28Q440  Forest Hills High School  ...           46       69.0\n",
              "93668      28Q440  Forest Hills High School  ...          657       83.7\n",
              "93670      28Q440  Forest Hills High School  ...          280       83.5\n",
              "132575     28Q440  Forest Hills High School  ...          496       83.8\n",
              "132576     28Q440  Forest Hills High School  ...          452       81.3\n",
              "132577     28Q440  Forest Hills High School  ...          451       84.0\n",
              "132578     28Q440  Forest Hills High School  ...          480       82.6\n",
              "132579     28Q440  Forest Hills High School  ...          548       84.1\n",
              "132580     28Q440  Forest Hills High School  ...          435       81.5\n",
              "198686     28Q440  Forest Hills High School  ...          233       86.7\n",
              "198687     28Q440  Forest Hills High School  ...          106       79.8\n",
              "198688     28Q440  Forest Hills High School  ...          298       79.6\n",
              "198689     28Q440  Forest Hills High School  ...           14       84.1\n",
              "198690     28Q440  Forest Hills High School  ...          297       83.2\n",
              "198691     28Q440  Forest Hills High School  ...          233       88.1\n",
              "198692     28Q440  Forest Hills High School  ...           83       80.3\n",
              "198693     28Q440  Forest Hills High School  ...          298       80.1\n",
              "198694     28Q440  Forest Hills High School  ...           37       83.9\n",
              "198695     28Q440  Forest Hills High School  ...          280       83.4\n",
              "198696     28Q440  Forest Hills High School  ...          245       87.7\n",
              "198697     28Q440  Forest Hills High School  ...           89       79.8\n",
              "198698     28Q440  Forest Hills High School  ...          334       79.8\n",
              "198699     28Q440  Forest Hills High School  ...           29       83.6\n",
              "198700     28Q440  Forest Hills High School  ...          286       83.6\n",
              "\n",
              "[39 rows x 7 columns]"
            ]
          },
          "metadata": {
            "tags": []
          }
        }
      ]
    },
    {
      "cell_type": "code",
      "metadata": {
        "colab": {
          "base_uri": "https://localhost:8080/"
        },
        "id": "kz_O-X3CMoM5",
        "outputId": "1740b6fd-6333-4405-a1ef-4b0b2f3934fe"
      },
      "source": [
        "#check data type \n",
        "#change mean score to integer \n",
        "df2['Mean Score'] = df2['Mean Score'].astype(int)"
      ],
      "execution_count": 63,
      "outputs": [
        {
          "output_type": "stream",
          "text": [
            "/usr/local/lib/python3.7/dist-packages/ipykernel_launcher.py:3: SettingWithCopyWarning: \n",
            "A value is trying to be set on a copy of a slice from a DataFrame.\n",
            "Try using .loc[row_indexer,col_indexer] = value instead\n",
            "\n",
            "See the caveats in the documentation: https://pandas.pydata.org/pandas-docs/stable/user_guide/indexing.html#returning-a-view-versus-a-copy\n",
            "  This is separate from the ipykernel package so we can avoid doing imports until\n"
          ],
          "name": "stderr"
        }
      ]
    },
    {
      "cell_type": "code",
      "metadata": {
        "colab": {
          "base_uri": "https://localhost:8080/"
        },
        "id": "3Fi-twjWMSJP",
        "outputId": "1ca3cd8a-4e80-4c1e-b301-cd44d3fd1573"
      },
      "source": [
        "#mean values Forest Hills High School \n",
        "df2.mean()"
      ],
      "execution_count": 64,
      "outputs": [
        {
          "output_type": "execute_result",
          "data": {
            "text/plain": [
              "Year            2016.000000\n",
              "Total Tested     366.923077\n",
              "Mean Score        80.282051\n",
              "dtype: float64"
            ]
          },
          "metadata": {
            "tags": []
          },
          "execution_count": 64
        }
      ]
    },
    {
      "cell_type": "code",
      "metadata": {
        "colab": {
          "base_uri": "https://localhost:8080/"
        },
        "id": "3gaDrbTNo6nB",
        "outputId": "50c6b978-9da0-426b-c661-cb11089a4c1e"
      },
      "source": [
        "#mode score of 2015. 2016, 2017\n",
        "df2 ['Mean Score'].mode()"
      ],
      "execution_count": 65,
      "outputs": [
        {
          "output_type": "execute_result",
          "data": {
            "text/plain": [
              "0    83\n",
              "dtype: int64"
            ]
          },
          "metadata": {
            "tags": []
          },
          "execution_count": 65
        }
      ]
    },
    {
      "cell_type": "code",
      "metadata": {
        "colab": {
          "base_uri": "https://localhost:8080/",
          "height": 391
        },
        "id": "p5AXmNROoYfu",
        "outputId": "e3a35d4a-2e82-488d-9510-ddf85408fa84"
      },
      "source": [
        "#explore relationship of variables \n",
        "#Mean Score & Total Tested in regard to the years \n",
        "sns.pairplot(df2, hue = 'Year')"
      ],
      "execution_count": 101,
      "outputs": [
        {
          "output_type": "execute_result",
          "data": {
            "text/plain": [
              "<seaborn.axisgrid.PairGrid at 0x7fb5e6cc0a90>"
            ]
          },
          "metadata": {
            "tags": []
          },
          "execution_count": 101
        },
        {
          "output_type": "display_data",
          "data": {
            "image/png": "[encoded data removed]",
            "text/plain": [
              "<Figure size 421.375x360 with 6 Axes>"
            ]
          },
          "metadata": {
            "tags": [],
            "needs_background": "light"
          }
        }
      ]
    },
    {
      "cell_type": "code",
      "metadata": {
        "colab": {
          "base_uri": "https://localhost:8080/",
          "height": 312
        },
        "id": "l-Mq8I8ld5yS",
        "outputId": "14cd1752-6452-4276-a645-f4dc0bb09b2b"
      },
      "source": [
        "#Plot relationship between Year and Mean Score \n",
        "# in which year did students score higher? \n",
        "sns. barplot(x='Year', y= 'Mean Score', data=df2)\n",
        "#change plot title \n",
        "plt.title(\"U.S. History & Governement Mean Scores FHHS\")"
      ],
      "execution_count": 112,
      "outputs": [
        {
          "output_type": "execute_result",
          "data": {
            "text/plain": [
              "Text(0.5, 1.0, 'U.S. History & Governement Mean Scores FHHS')"
            ]
          },
          "metadata": {
            "tags": []
          },
          "execution_count": 112
        },
        {
          "output_type": "display_data",
          "data": {
            "image/png": "[encoded data removed]",
            "text/plain": [
              "<Figure size 432x288 with 1 Axes>"
            ]
          },
          "metadata": {
            "tags": [],
            "needs_background": "light"
          }
        }
      ]
    },
    {
      "cell_type": "code",
      "metadata": {
        "colab": {
          "base_uri": "https://localhost:8080/",
          "height": 312
        },
        "id": "v3YJCa4w10Ny",
        "outputId": "22b7813f-34fb-4fcd-9e1b-b8b133887818"
      },
      "source": [
        "#Plot relationship between Year and Total Tested \n",
        "sns. barplot(x='Year', y= 'Total Tested', data=df2)\n",
        "#change plot title \n",
        "plt.title(\"Number of Students Tested- U.S. History & Governement FHHS\")"
      ],
      "execution_count": 113,
      "outputs": [
        {
          "output_type": "execute_result",
          "data": {
            "text/plain": [
              "Text(0.5, 1.0, 'Number of Students Tested- U.S. History & Governement FHHS')"
            ]
          },
          "metadata": {
            "tags": []
          },
          "execution_count": 113
        },
        {
          "output_type": "display_data",
          "data": {
            "image/png": "[encoded data removed]",
            "text/plain": [
              "<Figure size 432x288 with 1 Axes>"
            ]
          },
          "metadata": {
            "tags": [],
            "needs_background": "light"
          }
        }
      ]
    },
    {
      "cell_type": "code",
      "metadata": {
        "colab": {
          "base_uri": "https://localhost:8080/",
          "height": 312
        },
        "id": "1uPQlHHhmrEb",
        "outputId": "73f2e5ff-cc1d-4b9f-80d7-8229e912bc4e"
      },
      "source": [
        "sns.scatterplot(x=\"Mean Score\", y= 'Total Tested', hue= 'Year', data=df2) \n",
        "plt.title('U.S.History and Government Mean Score in Various Years FHHS')\n",
        "plt.legend(bbox_to_anchor=(1.05, 1), loc='upper left')"
      ],
      "execution_count": 110,
      "outputs": [
        {
          "output_type": "execute_result",
          "data": {
            "text/plain": [
              "<matplotlib.legend.Legend at 0x7fb5e6e74110>"
            ]
          },
          "metadata": {
            "tags": []
          },
          "execution_count": 110
        },
        {
          "output_type": "display_data",
          "data": {
            "image/png": "[encoded data removed]",
            "text/plain": [
              "<Figure size 432x288 with 1 Axes>"
            ]
          },
          "metadata": {
            "tags": [],
            "needs_background": "light"
          }
        }
      ]
    },
    {
      "cell_type": "code",
      "metadata": {
        "colab": {
          "base_uri": "https://localhost:8080/",
          "height": 1000
        },
        "id": "EQJgM4gNsEMV",
        "outputId": "ecb73c02-3145-4592-ff87-a3cb44f5fbdf"
      },
      "source": [
        "#new dataframe \n",
        "#df3 John Bowne HS \n",
        "df3= df[(df['Regents Exam']== 'U.S. History and Government')& (df['School Name']== 'John Bowne High School')]\n",
        "display(df3)"
      ],
      "execution_count": 67,
      "outputs": [
        {
          "output_type": "display_data",
          "data": {
            "text/html": [
              "<div>\n",
              "<style scoped>\n",
              "    .dataframe tbody tr th:only-of-type {\n",
              "        vertical-align: middle;\n",
              "    }\n",
              "\n",
              "    .dataframe tbody tr th {\n",
              "        vertical-align: top;\n",
              "    }\n",
              "\n",
              "    .dataframe thead th {\n",
              "        text-align: right;\n",
              "    }\n",
              "</style>\n",
              "<table border=\"1\" class=\"dataframe\">\n",
              "  <thead>\n",
              "    <tr style=\"text-align: right;\">\n",
              "      <th></th>\n",
              "      <th>School DBN</th>\n",
              "      <th>School Name</th>\n",
              "      <th>School Level</th>\n",
              "      <th>Regents Exam</th>\n",
              "      <th>Year</th>\n",
              "      <th>Total Tested</th>\n",
              "      <th>Mean Score</th>\n",
              "    </tr>\n",
              "  </thead>\n",
              "  <tbody>\n",
              "    <tr>\n",
              "      <th>14244</th>\n",
              "      <td>25Q425</td>\n",
              "      <td>John Bowne High School</td>\n",
              "      <td>High school</td>\n",
              "      <td>U.S. History and Government</td>\n",
              "      <td>2015</td>\n",
              "      <td>868</td>\n",
              "      <td>74.4</td>\n",
              "    </tr>\n",
              "    <tr>\n",
              "      <th>14245</th>\n",
              "      <td>25Q425</td>\n",
              "      <td>John Bowne High School</td>\n",
              "      <td>High school</td>\n",
              "      <td>U.S. History and Government</td>\n",
              "      <td>2016</td>\n",
              "      <td>887</td>\n",
              "      <td>72.7</td>\n",
              "    </tr>\n",
              "    <tr>\n",
              "      <th>14246</th>\n",
              "      <td>25Q425</td>\n",
              "      <td>John Bowne High School</td>\n",
              "      <td>High school</td>\n",
              "      <td>U.S. History and Government</td>\n",
              "      <td>2017</td>\n",
              "      <td>1023</td>\n",
              "      <td>74.0</td>\n",
              "    </tr>\n",
              "    <tr>\n",
              "      <th>44954</th>\n",
              "      <td>25Q425</td>\n",
              "      <td>John Bowne High School</td>\n",
              "      <td>High school</td>\n",
              "      <td>U.S. History and Government</td>\n",
              "      <td>2015</td>\n",
              "      <td>746</td>\n",
              "      <td>77.3</td>\n",
              "    </tr>\n",
              "    <tr>\n",
              "      <th>44955</th>\n",
              "      <td>25Q425</td>\n",
              "      <td>John Bowne High School</td>\n",
              "      <td>High school</td>\n",
              "      <td>U.S. History and Government</td>\n",
              "      <td>2015</td>\n",
              "      <td>122</td>\n",
              "      <td>56.9</td>\n",
              "    </tr>\n",
              "    <tr>\n",
              "      <th>44956</th>\n",
              "      <td>25Q425</td>\n",
              "      <td>John Bowne High School</td>\n",
              "      <td>High school</td>\n",
              "      <td>U.S. History and Government</td>\n",
              "      <td>2016</td>\n",
              "      <td>752</td>\n",
              "      <td>75.3</td>\n",
              "    </tr>\n",
              "    <tr>\n",
              "      <th>44957</th>\n",
              "      <td>25Q425</td>\n",
              "      <td>John Bowne High School</td>\n",
              "      <td>High school</td>\n",
              "      <td>U.S. History and Government</td>\n",
              "      <td>2016</td>\n",
              "      <td>135</td>\n",
              "      <td>58.4</td>\n",
              "    </tr>\n",
              "    <tr>\n",
              "      <th>44958</th>\n",
              "      <td>25Q425</td>\n",
              "      <td>John Bowne High School</td>\n",
              "      <td>High school</td>\n",
              "      <td>U.S. History and Government</td>\n",
              "      <td>2017</td>\n",
              "      <td>904</td>\n",
              "      <td>75.7</td>\n",
              "    </tr>\n",
              "    <tr>\n",
              "      <th>44959</th>\n",
              "      <td>25Q425</td>\n",
              "      <td>John Bowne High School</td>\n",
              "      <td>High school</td>\n",
              "      <td>U.S. History and Government</td>\n",
              "      <td>2017</td>\n",
              "      <td>119</td>\n",
              "      <td>61.2</td>\n",
              "    </tr>\n",
              "    <tr>\n",
              "      <th>90151</th>\n",
              "      <td>25Q425</td>\n",
              "      <td>John Bowne High School</td>\n",
              "      <td>High school</td>\n",
              "      <td>U.S. History and Government</td>\n",
              "      <td>2015</td>\n",
              "      <td>192</td>\n",
              "      <td>67.8</td>\n",
              "    </tr>\n",
              "    <tr>\n",
              "      <th>90152</th>\n",
              "      <td>25Q425</td>\n",
              "      <td>John Bowne High School</td>\n",
              "      <td>High school</td>\n",
              "      <td>U.S. History and Government</td>\n",
              "      <td>2015</td>\n",
              "      <td>403</td>\n",
              "      <td>76.8</td>\n",
              "    </tr>\n",
              "    <tr>\n",
              "      <th>90153</th>\n",
              "      <td>25Q425</td>\n",
              "      <td>John Bowne High School</td>\n",
              "      <td>High school</td>\n",
              "      <td>U.S. History and Government</td>\n",
              "      <td>2015</td>\n",
              "      <td>273</td>\n",
              "      <td>75.7</td>\n",
              "    </tr>\n",
              "    <tr>\n",
              "      <th>90154</th>\n",
              "      <td>25Q425</td>\n",
              "      <td>John Bowne High School</td>\n",
              "      <td>High school</td>\n",
              "      <td>U.S. History and Government</td>\n",
              "      <td>2016</td>\n",
              "      <td>167</td>\n",
              "      <td>63.9</td>\n",
              "    </tr>\n",
              "    <tr>\n",
              "      <th>90155</th>\n",
              "      <td>25Q425</td>\n",
              "      <td>John Bowne High School</td>\n",
              "      <td>High school</td>\n",
              "      <td>U.S. History and Government</td>\n",
              "      <td>2016</td>\n",
              "      <td>392</td>\n",
              "      <td>75.1</td>\n",
              "    </tr>\n",
              "    <tr>\n",
              "      <th>90156</th>\n",
              "      <td>25Q425</td>\n",
              "      <td>John Bowne High School</td>\n",
              "      <td>High school</td>\n",
              "      <td>U.S. History and Government</td>\n",
              "      <td>2016</td>\n",
              "      <td>328</td>\n",
              "      <td>74.4</td>\n",
              "    </tr>\n",
              "    <tr>\n",
              "      <th>90157</th>\n",
              "      <td>25Q425</td>\n",
              "      <td>John Bowne High School</td>\n",
              "      <td>High school</td>\n",
              "      <td>U.S. History and Government</td>\n",
              "      <td>2017</td>\n",
              "      <td>207</td>\n",
              "      <td>69.3</td>\n",
              "    </tr>\n",
              "    <tr>\n",
              "      <th>90158</th>\n",
              "      <td>25Q425</td>\n",
              "      <td>John Bowne High School</td>\n",
              "      <td>High school</td>\n",
              "      <td>U.S. History and Government</td>\n",
              "      <td>2017</td>\n",
              "      <td>449</td>\n",
              "      <td>75.3</td>\n",
              "    </tr>\n",
              "    <tr>\n",
              "      <th>90159</th>\n",
              "      <td>25Q425</td>\n",
              "      <td>John Bowne High School</td>\n",
              "      <td>High school</td>\n",
              "      <td>U.S. History and Government</td>\n",
              "      <td>2017</td>\n",
              "      <td>367</td>\n",
              "      <td>75.1</td>\n",
              "    </tr>\n",
              "    <tr>\n",
              "      <th>129912</th>\n",
              "      <td>25Q425</td>\n",
              "      <td>John Bowne High School</td>\n",
              "      <td>High school</td>\n",
              "      <td>U.S. History and Government</td>\n",
              "      <td>2015</td>\n",
              "      <td>436</td>\n",
              "      <td>74.6</td>\n",
              "    </tr>\n",
              "    <tr>\n",
              "      <th>129913</th>\n",
              "      <td>25Q425</td>\n",
              "      <td>John Bowne High School</td>\n",
              "      <td>High school</td>\n",
              "      <td>U.S. History and Government</td>\n",
              "      <td>2015</td>\n",
              "      <td>432</td>\n",
              "      <td>74.3</td>\n",
              "    </tr>\n",
              "    <tr>\n",
              "      <th>129914</th>\n",
              "      <td>25Q425</td>\n",
              "      <td>John Bowne High School</td>\n",
              "      <td>High school</td>\n",
              "      <td>U.S. History and Government</td>\n",
              "      <td>2016</td>\n",
              "      <td>482</td>\n",
              "      <td>73.3</td>\n",
              "    </tr>\n",
              "    <tr>\n",
              "      <th>129915</th>\n",
              "      <td>25Q425</td>\n",
              "      <td>John Bowne High School</td>\n",
              "      <td>High school</td>\n",
              "      <td>U.S. History and Government</td>\n",
              "      <td>2016</td>\n",
              "      <td>405</td>\n",
              "      <td>72.0</td>\n",
              "    </tr>\n",
              "    <tr>\n",
              "      <th>129916</th>\n",
              "      <td>25Q425</td>\n",
              "      <td>John Bowne High School</td>\n",
              "      <td>High school</td>\n",
              "      <td>U.S. History and Government</td>\n",
              "      <td>2017</td>\n",
              "      <td>490</td>\n",
              "      <td>74.0</td>\n",
              "    </tr>\n",
              "    <tr>\n",
              "      <th>129917</th>\n",
              "      <td>25Q425</td>\n",
              "      <td>John Bowne High School</td>\n",
              "      <td>High school</td>\n",
              "      <td>U.S. History and Government</td>\n",
              "      <td>2017</td>\n",
              "      <td>533</td>\n",
              "      <td>74.0</td>\n",
              "    </tr>\n",
              "    <tr>\n",
              "      <th>192716</th>\n",
              "      <td>25Q425</td>\n",
              "      <td>John Bowne High School</td>\n",
              "      <td>High school</td>\n",
              "      <td>U.S. History and Government</td>\n",
              "      <td>2015</td>\n",
              "      <td>241</td>\n",
              "      <td>80.6</td>\n",
              "    </tr>\n",
              "    <tr>\n",
              "      <th>192717</th>\n",
              "      <td>25Q425</td>\n",
              "      <td>John Bowne High School</td>\n",
              "      <td>High school</td>\n",
              "      <td>U.S. History and Government</td>\n",
              "      <td>2015</td>\n",
              "      <td>184</td>\n",
              "      <td>72.7</td>\n",
              "    </tr>\n",
              "    <tr>\n",
              "      <th>192718</th>\n",
              "      <td>25Q425</td>\n",
              "      <td>John Bowne High School</td>\n",
              "      <td>High school</td>\n",
              "      <td>U.S. History and Government</td>\n",
              "      <td>2015</td>\n",
              "      <td>389</td>\n",
              "      <td>71.0</td>\n",
              "    </tr>\n",
              "    <tr>\n",
              "      <th>192719</th>\n",
              "      <td>25Q425</td>\n",
              "      <td>John Bowne High School</td>\n",
              "      <td>High school</td>\n",
              "      <td>U.S. History and Government</td>\n",
              "      <td>2015</td>\n",
              "      <td>12</td>\n",
              "      <td>82.0</td>\n",
              "    </tr>\n",
              "    <tr>\n",
              "      <th>192720</th>\n",
              "      <td>25Q425</td>\n",
              "      <td>John Bowne High School</td>\n",
              "      <td>High school</td>\n",
              "      <td>U.S. History and Government</td>\n",
              "      <td>2015</td>\n",
              "      <td>42</td>\n",
              "      <td>76.2</td>\n",
              "    </tr>\n",
              "    <tr>\n",
              "      <th>192721</th>\n",
              "      <td>25Q425</td>\n",
              "      <td>John Bowne High School</td>\n",
              "      <td>High school</td>\n",
              "      <td>U.S. History and Government</td>\n",
              "      <td>2016</td>\n",
              "      <td>257</td>\n",
              "      <td>80.0</td>\n",
              "    </tr>\n",
              "    <tr>\n",
              "      <th>192722</th>\n",
              "      <td>25Q425</td>\n",
              "      <td>John Bowne High School</td>\n",
              "      <td>High school</td>\n",
              "      <td>U.S. History and Government</td>\n",
              "      <td>2016</td>\n",
              "      <td>164</td>\n",
              "      <td>70.5</td>\n",
              "    </tr>\n",
              "    <tr>\n",
              "      <th>192723</th>\n",
              "      <td>25Q425</td>\n",
              "      <td>John Bowne High School</td>\n",
              "      <td>High school</td>\n",
              "      <td>U.S. History and Government</td>\n",
              "      <td>2016</td>\n",
              "      <td>412</td>\n",
              "      <td>68.6</td>\n",
              "    </tr>\n",
              "    <tr>\n",
              "      <th>192724</th>\n",
              "      <td>25Q425</td>\n",
              "      <td>John Bowne High School</td>\n",
              "      <td>High school</td>\n",
              "      <td>U.S. History and Government</td>\n",
              "      <td>2016</td>\n",
              "      <td>18</td>\n",
              "      <td>81.3</td>\n",
              "    </tr>\n",
              "    <tr>\n",
              "      <th>192725</th>\n",
              "      <td>25Q425</td>\n",
              "      <td>John Bowne High School</td>\n",
              "      <td>High school</td>\n",
              "      <td>U.S. History and Government</td>\n",
              "      <td>2016</td>\n",
              "      <td>36</td>\n",
              "      <td>74.3</td>\n",
              "    </tr>\n",
              "    <tr>\n",
              "      <th>192726</th>\n",
              "      <td>25Q425</td>\n",
              "      <td>John Bowne High School</td>\n",
              "      <td>High school</td>\n",
              "      <td>U.S. History and Government</td>\n",
              "      <td>2017</td>\n",
              "      <td>303</td>\n",
              "      <td>80.4</td>\n",
              "    </tr>\n",
              "    <tr>\n",
              "      <th>192727</th>\n",
              "      <td>25Q425</td>\n",
              "      <td>John Bowne High School</td>\n",
              "      <td>High school</td>\n",
              "      <td>U.S. History and Government</td>\n",
              "      <td>2017</td>\n",
              "      <td>178</td>\n",
              "      <td>70.6</td>\n",
              "    </tr>\n",
              "    <tr>\n",
              "      <th>192728</th>\n",
              "      <td>25Q425</td>\n",
              "      <td>John Bowne High School</td>\n",
              "      <td>High school</td>\n",
              "      <td>U.S. History and Government</td>\n",
              "      <td>2017</td>\n",
              "      <td>475</td>\n",
              "      <td>70.6</td>\n",
              "    </tr>\n",
              "    <tr>\n",
              "      <th>192729</th>\n",
              "      <td>25Q425</td>\n",
              "      <td>John Bowne High School</td>\n",
              "      <td>High school</td>\n",
              "      <td>U.S. History and Government</td>\n",
              "      <td>2017</td>\n",
              "      <td>19</td>\n",
              "      <td>78.7</td>\n",
              "    </tr>\n",
              "    <tr>\n",
              "      <th>192730</th>\n",
              "      <td>25Q425</td>\n",
              "      <td>John Bowne High School</td>\n",
              "      <td>High school</td>\n",
              "      <td>U.S. History and Government</td>\n",
              "      <td>2017</td>\n",
              "      <td>48</td>\n",
              "      <td>78.5</td>\n",
              "    </tr>\n",
              "  </tbody>\n",
              "</table>\n",
              "</div>"
            ],
            "text/plain": [
              "       School DBN             School Name  ... Total Tested Mean Score\n",
              "14244      25Q425  John Bowne High School  ...          868       74.4\n",
              "14245      25Q425  John Bowne High School  ...          887       72.7\n",
              "14246      25Q425  John Bowne High School  ...         1023       74.0\n",
              "44954      25Q425  John Bowne High School  ...          746       77.3\n",
              "44955      25Q425  John Bowne High School  ...          122       56.9\n",
              "44956      25Q425  John Bowne High School  ...          752       75.3\n",
              "44957      25Q425  John Bowne High School  ...          135       58.4\n",
              "44958      25Q425  John Bowne High School  ...          904       75.7\n",
              "44959      25Q425  John Bowne High School  ...          119       61.2\n",
              "90151      25Q425  John Bowne High School  ...          192       67.8\n",
              "90152      25Q425  John Bowne High School  ...          403       76.8\n",
              "90153      25Q425  John Bowne High School  ...          273       75.7\n",
              "90154      25Q425  John Bowne High School  ...          167       63.9\n",
              "90155      25Q425  John Bowne High School  ...          392       75.1\n",
              "90156      25Q425  John Bowne High School  ...          328       74.4\n",
              "90157      25Q425  John Bowne High School  ...          207       69.3\n",
              "90158      25Q425  John Bowne High School  ...          449       75.3\n",
              "90159      25Q425  John Bowne High School  ...          367       75.1\n",
              "129912     25Q425  John Bowne High School  ...          436       74.6\n",
              "129913     25Q425  John Bowne High School  ...          432       74.3\n",
              "129914     25Q425  John Bowne High School  ...          482       73.3\n",
              "129915     25Q425  John Bowne High School  ...          405       72.0\n",
              "129916     25Q425  John Bowne High School  ...          490       74.0\n",
              "129917     25Q425  John Bowne High School  ...          533       74.0\n",
              "192716     25Q425  John Bowne High School  ...          241       80.6\n",
              "192717     25Q425  John Bowne High School  ...          184       72.7\n",
              "192718     25Q425  John Bowne High School  ...          389       71.0\n",
              "192719     25Q425  John Bowne High School  ...           12       82.0\n",
              "192720     25Q425  John Bowne High School  ...           42       76.2\n",
              "192721     25Q425  John Bowne High School  ...          257       80.0\n",
              "192722     25Q425  John Bowne High School  ...          164       70.5\n",
              "192723     25Q425  John Bowne High School  ...          412       68.6\n",
              "192724     25Q425  John Bowne High School  ...           18       81.3\n",
              "192725     25Q425  John Bowne High School  ...           36       74.3\n",
              "192726     25Q425  John Bowne High School  ...          303       80.4\n",
              "192727     25Q425  John Bowne High School  ...          178       70.6\n",
              "192728     25Q425  John Bowne High School  ...          475       70.6\n",
              "192729     25Q425  John Bowne High School  ...           19       78.7\n",
              "192730     25Q425  John Bowne High School  ...           48       78.5\n",
              "\n",
              "[39 rows x 7 columns]"
            ]
          },
          "metadata": {
            "tags": []
          }
        }
      ]
    },
    {
      "cell_type": "code",
      "metadata": {
        "colab": {
          "base_uri": "https://localhost:8080/",
          "height": 1000
        },
        "id": "pC5sIscxwtfQ",
        "outputId": "82d0580d-bbaa-4d16-f41b-7dc9859b2bfe"
      },
      "source": [
        "df3.drop([14244, 90156,])\n",
        "#dropped rows to be able to change mean score to int"
      ],
      "execution_count": 68,
      "outputs": [
        {
          "output_type": "execute_result",
          "data": {
            "text/html": [
              "<div>\n",
              "<style scoped>\n",
              "    .dataframe tbody tr th:only-of-type {\n",
              "        vertical-align: middle;\n",
              "    }\n",
              "\n",
              "    .dataframe tbody tr th {\n",
              "        vertical-align: top;\n",
              "    }\n",
              "\n",
              "    .dataframe thead th {\n",
              "        text-align: right;\n",
              "    }\n",
              "</style>\n",
              "<table border=\"1\" class=\"dataframe\">\n",
              "  <thead>\n",
              "    <tr style=\"text-align: right;\">\n",
              "      <th></th>\n",
              "      <th>School DBN</th>\n",
              "      <th>School Name</th>\n",
              "      <th>School Level</th>\n",
              "      <th>Regents Exam</th>\n",
              "      <th>Year</th>\n",
              "      <th>Total Tested</th>\n",
              "      <th>Mean Score</th>\n",
              "    </tr>\n",
              "  </thead>\n",
              "  <tbody>\n",
              "    <tr>\n",
              "      <th>14245</th>\n",
              "      <td>25Q425</td>\n",
              "      <td>John Bowne High School</td>\n",
              "      <td>High school</td>\n",
              "      <td>U.S. History and Government</td>\n",
              "      <td>2016</td>\n",
              "      <td>887</td>\n",
              "      <td>72.7</td>\n",
              "    </tr>\n",
              "    <tr>\n",
              "      <th>14246</th>\n",
              "      <td>25Q425</td>\n",
              "      <td>John Bowne High School</td>\n",
              "      <td>High school</td>\n",
              "      <td>U.S. History and Government</td>\n",
              "      <td>2017</td>\n",
              "      <td>1023</td>\n",
              "      <td>74.0</td>\n",
              "    </tr>\n",
              "    <tr>\n",
              "      <th>44954</th>\n",
              "      <td>25Q425</td>\n",
              "      <td>John Bowne High School</td>\n",
              "      <td>High school</td>\n",
              "      <td>U.S. History and Government</td>\n",
              "      <td>2015</td>\n",
              "      <td>746</td>\n",
              "      <td>77.3</td>\n",
              "    </tr>\n",
              "    <tr>\n",
              "      <th>44955</th>\n",
              "      <td>25Q425</td>\n",
              "      <td>John Bowne High School</td>\n",
              "      <td>High school</td>\n",
              "      <td>U.S. History and Government</td>\n",
              "      <td>2015</td>\n",
              "      <td>122</td>\n",
              "      <td>56.9</td>\n",
              "    </tr>\n",
              "    <tr>\n",
              "      <th>44956</th>\n",
              "      <td>25Q425</td>\n",
              "      <td>John Bowne High School</td>\n",
              "      <td>High school</td>\n",
              "      <td>U.S. History and Government</td>\n",
              "      <td>2016</td>\n",
              "      <td>752</td>\n",
              "      <td>75.3</td>\n",
              "    </tr>\n",
              "    <tr>\n",
              "      <th>44957</th>\n",
              "      <td>25Q425</td>\n",
              "      <td>John Bowne High School</td>\n",
              "      <td>High school</td>\n",
              "      <td>U.S. History and Government</td>\n",
              "      <td>2016</td>\n",
              "      <td>135</td>\n",
              "      <td>58.4</td>\n",
              "    </tr>\n",
              "    <tr>\n",
              "      <th>44958</th>\n",
              "      <td>25Q425</td>\n",
              "      <td>John Bowne High School</td>\n",
              "      <td>High school</td>\n",
              "      <td>U.S. History and Government</td>\n",
              "      <td>2017</td>\n",
              "      <td>904</td>\n",
              "      <td>75.7</td>\n",
              "    </tr>\n",
              "    <tr>\n",
              "      <th>44959</th>\n",
              "      <td>25Q425</td>\n",
              "      <td>John Bowne High School</td>\n",
              "      <td>High school</td>\n",
              "      <td>U.S. History and Government</td>\n",
              "      <td>2017</td>\n",
              "      <td>119</td>\n",
              "      <td>61.2</td>\n",
              "    </tr>\n",
              "    <tr>\n",
              "      <th>90151</th>\n",
              "      <td>25Q425</td>\n",
              "      <td>John Bowne High School</td>\n",
              "      <td>High school</td>\n",
              "      <td>U.S. History and Government</td>\n",
              "      <td>2015</td>\n",
              "      <td>192</td>\n",
              "      <td>67.8</td>\n",
              "    </tr>\n",
              "    <tr>\n",
              "      <th>90152</th>\n",
              "      <td>25Q425</td>\n",
              "      <td>John Bowne High School</td>\n",
              "      <td>High school</td>\n",
              "      <td>U.S. History and Government</td>\n",
              "      <td>2015</td>\n",
              "      <td>403</td>\n",
              "      <td>76.8</td>\n",
              "    </tr>\n",
              "    <tr>\n",
              "      <th>90153</th>\n",
              "      <td>25Q425</td>\n",
              "      <td>John Bowne High School</td>\n",
              "      <td>High school</td>\n",
              "      <td>U.S. History and Government</td>\n",
              "      <td>2015</td>\n",
              "      <td>273</td>\n",
              "      <td>75.7</td>\n",
              "    </tr>\n",
              "    <tr>\n",
              "      <th>90154</th>\n",
              "      <td>25Q425</td>\n",
              "      <td>John Bowne High School</td>\n",
              "      <td>High school</td>\n",
              "      <td>U.S. History and Government</td>\n",
              "      <td>2016</td>\n",
              "      <td>167</td>\n",
              "      <td>63.9</td>\n",
              "    </tr>\n",
              "    <tr>\n",
              "      <th>90155</th>\n",
              "      <td>25Q425</td>\n",
              "      <td>John Bowne High School</td>\n",
              "      <td>High school</td>\n",
              "      <td>U.S. History and Government</td>\n",
              "      <td>2016</td>\n",
              "      <td>392</td>\n",
              "      <td>75.1</td>\n",
              "    </tr>\n",
              "    <tr>\n",
              "      <th>90157</th>\n",
              "      <td>25Q425</td>\n",
              "      <td>John Bowne High School</td>\n",
              "      <td>High school</td>\n",
              "      <td>U.S. History and Government</td>\n",
              "      <td>2017</td>\n",
              "      <td>207</td>\n",
              "      <td>69.3</td>\n",
              "    </tr>\n",
              "    <tr>\n",
              "      <th>90158</th>\n",
              "      <td>25Q425</td>\n",
              "      <td>John Bowne High School</td>\n",
              "      <td>High school</td>\n",
              "      <td>U.S. History and Government</td>\n",
              "      <td>2017</td>\n",
              "      <td>449</td>\n",
              "      <td>75.3</td>\n",
              "    </tr>\n",
              "    <tr>\n",
              "      <th>90159</th>\n",
              "      <td>25Q425</td>\n",
              "      <td>John Bowne High School</td>\n",
              "      <td>High school</td>\n",
              "      <td>U.S. History and Government</td>\n",
              "      <td>2017</td>\n",
              "      <td>367</td>\n",
              "      <td>75.1</td>\n",
              "    </tr>\n",
              "    <tr>\n",
              "      <th>129912</th>\n",
              "      <td>25Q425</td>\n",
              "      <td>John Bowne High School</td>\n",
              "      <td>High school</td>\n",
              "      <td>U.S. History and Government</td>\n",
              "      <td>2015</td>\n",
              "      <td>436</td>\n",
              "      <td>74.6</td>\n",
              "    </tr>\n",
              "    <tr>\n",
              "      <th>129913</th>\n",
              "      <td>25Q425</td>\n",
              "      <td>John Bowne High School</td>\n",
              "      <td>High school</td>\n",
              "      <td>U.S. History and Government</td>\n",
              "      <td>2015</td>\n",
              "      <td>432</td>\n",
              "      <td>74.3</td>\n",
              "    </tr>\n",
              "    <tr>\n",
              "      <th>129914</th>\n",
              "      <td>25Q425</td>\n",
              "      <td>John Bowne High School</td>\n",
              "      <td>High school</td>\n",
              "      <td>U.S. History and Government</td>\n",
              "      <td>2016</td>\n",
              "      <td>482</td>\n",
              "      <td>73.3</td>\n",
              "    </tr>\n",
              "    <tr>\n",
              "      <th>129915</th>\n",
              "      <td>25Q425</td>\n",
              "      <td>John Bowne High School</td>\n",
              "      <td>High school</td>\n",
              "      <td>U.S. History and Government</td>\n",
              "      <td>2016</td>\n",
              "      <td>405</td>\n",
              "      <td>72.0</td>\n",
              "    </tr>\n",
              "    <tr>\n",
              "      <th>129916</th>\n",
              "      <td>25Q425</td>\n",
              "      <td>John Bowne High School</td>\n",
              "      <td>High school</td>\n",
              "      <td>U.S. History and Government</td>\n",
              "      <td>2017</td>\n",
              "      <td>490</td>\n",
              "      <td>74.0</td>\n",
              "    </tr>\n",
              "    <tr>\n",
              "      <th>129917</th>\n",
              "      <td>25Q425</td>\n",
              "      <td>John Bowne High School</td>\n",
              "      <td>High school</td>\n",
              "      <td>U.S. History and Government</td>\n",
              "      <td>2017</td>\n",
              "      <td>533</td>\n",
              "      <td>74.0</td>\n",
              "    </tr>\n",
              "    <tr>\n",
              "      <th>192716</th>\n",
              "      <td>25Q425</td>\n",
              "      <td>John Bowne High School</td>\n",
              "      <td>High school</td>\n",
              "      <td>U.S. History and Government</td>\n",
              "      <td>2015</td>\n",
              "      <td>241</td>\n",
              "      <td>80.6</td>\n",
              "    </tr>\n",
              "    <tr>\n",
              "      <th>192717</th>\n",
              "      <td>25Q425</td>\n",
              "      <td>John Bowne High School</td>\n",
              "      <td>High school</td>\n",
              "      <td>U.S. History and Government</td>\n",
              "      <td>2015</td>\n",
              "      <td>184</td>\n",
              "      <td>72.7</td>\n",
              "    </tr>\n",
              "    <tr>\n",
              "      <th>192718</th>\n",
              "      <td>25Q425</td>\n",
              "      <td>John Bowne High School</td>\n",
              "      <td>High school</td>\n",
              "      <td>U.S. History and Government</td>\n",
              "      <td>2015</td>\n",
              "      <td>389</td>\n",
              "      <td>71.0</td>\n",
              "    </tr>\n",
              "    <tr>\n",
              "      <th>192719</th>\n",
              "      <td>25Q425</td>\n",
              "      <td>John Bowne High School</td>\n",
              "      <td>High school</td>\n",
              "      <td>U.S. History and Government</td>\n",
              "      <td>2015</td>\n",
              "      <td>12</td>\n",
              "      <td>82.0</td>\n",
              "    </tr>\n",
              "    <tr>\n",
              "      <th>192720</th>\n",
              "      <td>25Q425</td>\n",
              "      <td>John Bowne High School</td>\n",
              "      <td>High school</td>\n",
              "      <td>U.S. History and Government</td>\n",
              "      <td>2015</td>\n",
              "      <td>42</td>\n",
              "      <td>76.2</td>\n",
              "    </tr>\n",
              "    <tr>\n",
              "      <th>192721</th>\n",
              "      <td>25Q425</td>\n",
              "      <td>John Bowne High School</td>\n",
              "      <td>High school</td>\n",
              "      <td>U.S. History and Government</td>\n",
              "      <td>2016</td>\n",
              "      <td>257</td>\n",
              "      <td>80.0</td>\n",
              "    </tr>\n",
              "    <tr>\n",
              "      <th>192722</th>\n",
              "      <td>25Q425</td>\n",
              "      <td>John Bowne High School</td>\n",
              "      <td>High school</td>\n",
              "      <td>U.S. History and Government</td>\n",
              "      <td>2016</td>\n",
              "      <td>164</td>\n",
              "      <td>70.5</td>\n",
              "    </tr>\n",
              "    <tr>\n",
              "      <th>192723</th>\n",
              "      <td>25Q425</td>\n",
              "      <td>John Bowne High School</td>\n",
              "      <td>High school</td>\n",
              "      <td>U.S. History and Government</td>\n",
              "      <td>2016</td>\n",
              "      <td>412</td>\n",
              "      <td>68.6</td>\n",
              "    </tr>\n",
              "    <tr>\n",
              "      <th>192724</th>\n",
              "      <td>25Q425</td>\n",
              "      <td>John Bowne High School</td>\n",
              "      <td>High school</td>\n",
              "      <td>U.S. History and Government</td>\n",
              "      <td>2016</td>\n",
              "      <td>18</td>\n",
              "      <td>81.3</td>\n",
              "    </tr>\n",
              "    <tr>\n",
              "      <th>192725</th>\n",
              "      <td>25Q425</td>\n",
              "      <td>John Bowne High School</td>\n",
              "      <td>High school</td>\n",
              "      <td>U.S. History and Government</td>\n",
              "      <td>2016</td>\n",
              "      <td>36</td>\n",
              "      <td>74.3</td>\n",
              "    </tr>\n",
              "    <tr>\n",
              "      <th>192726</th>\n",
              "      <td>25Q425</td>\n",
              "      <td>John Bowne High School</td>\n",
              "      <td>High school</td>\n",
              "      <td>U.S. History and Government</td>\n",
              "      <td>2017</td>\n",
              "      <td>303</td>\n",
              "      <td>80.4</td>\n",
              "    </tr>\n",
              "    <tr>\n",
              "      <th>192727</th>\n",
              "      <td>25Q425</td>\n",
              "      <td>John Bowne High School</td>\n",
              "      <td>High school</td>\n",
              "      <td>U.S. History and Government</td>\n",
              "      <td>2017</td>\n",
              "      <td>178</td>\n",
              "      <td>70.6</td>\n",
              "    </tr>\n",
              "    <tr>\n",
              "      <th>192728</th>\n",
              "      <td>25Q425</td>\n",
              "      <td>John Bowne High School</td>\n",
              "      <td>High school</td>\n",
              "      <td>U.S. History and Government</td>\n",
              "      <td>2017</td>\n",
              "      <td>475</td>\n",
              "      <td>70.6</td>\n",
              "    </tr>\n",
              "    <tr>\n",
              "      <th>192729</th>\n",
              "      <td>25Q425</td>\n",
              "      <td>John Bowne High School</td>\n",
              "      <td>High school</td>\n",
              "      <td>U.S. History and Government</td>\n",
              "      <td>2017</td>\n",
              "      <td>19</td>\n",
              "      <td>78.7</td>\n",
              "    </tr>\n",
              "    <tr>\n",
              "      <th>192730</th>\n",
              "      <td>25Q425</td>\n",
              "      <td>John Bowne High School</td>\n",
              "      <td>High school</td>\n",
              "      <td>U.S. History and Government</td>\n",
              "      <td>2017</td>\n",
              "      <td>48</td>\n",
              "      <td>78.5</td>\n",
              "    </tr>\n",
              "  </tbody>\n",
              "</table>\n",
              "</div>"
            ],
            "text/plain": [
              "       School DBN             School Name  ... Total Tested Mean Score\n",
              "14245      25Q425  John Bowne High School  ...          887       72.7\n",
              "14246      25Q425  John Bowne High School  ...         1023       74.0\n",
              "44954      25Q425  John Bowne High School  ...          746       77.3\n",
              "44955      25Q425  John Bowne High School  ...          122       56.9\n",
              "44956      25Q425  John Bowne High School  ...          752       75.3\n",
              "44957      25Q425  John Bowne High School  ...          135       58.4\n",
              "44958      25Q425  John Bowne High School  ...          904       75.7\n",
              "44959      25Q425  John Bowne High School  ...          119       61.2\n",
              "90151      25Q425  John Bowne High School  ...          192       67.8\n",
              "90152      25Q425  John Bowne High School  ...          403       76.8\n",
              "90153      25Q425  John Bowne High School  ...          273       75.7\n",
              "90154      25Q425  John Bowne High School  ...          167       63.9\n",
              "90155      25Q425  John Bowne High School  ...          392       75.1\n",
              "90157      25Q425  John Bowne High School  ...          207       69.3\n",
              "90158      25Q425  John Bowne High School  ...          449       75.3\n",
              "90159      25Q425  John Bowne High School  ...          367       75.1\n",
              "129912     25Q425  John Bowne High School  ...          436       74.6\n",
              "129913     25Q425  John Bowne High School  ...          432       74.3\n",
              "129914     25Q425  John Bowne High School  ...          482       73.3\n",
              "129915     25Q425  John Bowne High School  ...          405       72.0\n",
              "129916     25Q425  John Bowne High School  ...          490       74.0\n",
              "129917     25Q425  John Bowne High School  ...          533       74.0\n",
              "192716     25Q425  John Bowne High School  ...          241       80.6\n",
              "192717     25Q425  John Bowne High School  ...          184       72.7\n",
              "192718     25Q425  John Bowne High School  ...          389       71.0\n",
              "192719     25Q425  John Bowne High School  ...           12       82.0\n",
              "192720     25Q425  John Bowne High School  ...           42       76.2\n",
              "192721     25Q425  John Bowne High School  ...          257       80.0\n",
              "192722     25Q425  John Bowne High School  ...          164       70.5\n",
              "192723     25Q425  John Bowne High School  ...          412       68.6\n",
              "192724     25Q425  John Bowne High School  ...           18       81.3\n",
              "192725     25Q425  John Bowne High School  ...           36       74.3\n",
              "192726     25Q425  John Bowne High School  ...          303       80.4\n",
              "192727     25Q425  John Bowne High School  ...          178       70.6\n",
              "192728     25Q425  John Bowne High School  ...          475       70.6\n",
              "192729     25Q425  John Bowne High School  ...           19       78.7\n",
              "192730     25Q425  John Bowne High School  ...           48       78.5\n",
              "\n",
              "[37 rows x 7 columns]"
            ]
          },
          "metadata": {
            "tags": []
          },
          "execution_count": 68
        }
      ]
    },
    {
      "cell_type": "code",
      "metadata": {
        "colab": {
          "base_uri": "https://localhost:8080/"
        },
        "id": "ZLAX57rr0ge0",
        "outputId": "6a379a32-25bc-424a-e53c-20a95c92239d"
      },
      "source": [
        "#check data type \n",
        "#change mean score to integer \n",
        "df3['Mean Score'] = df3['Mean Score'].astype(int)\n",
        "df3.dtypes"
      ],
      "execution_count": 69,
      "outputs": [
        {
          "output_type": "stream",
          "text": [
            "/usr/local/lib/python3.7/dist-packages/ipykernel_launcher.py:3: SettingWithCopyWarning: \n",
            "A value is trying to be set on a copy of a slice from a DataFrame.\n",
            "Try using .loc[row_indexer,col_indexer] = value instead\n",
            "\n",
            "See the caveats in the documentation: https://pandas.pydata.org/pandas-docs/stable/user_guide/indexing.html#returning-a-view-versus-a-copy\n",
            "  This is separate from the ipykernel package so we can avoid doing imports until\n"
          ],
          "name": "stderr"
        },
        {
          "output_type": "execute_result",
          "data": {
            "text/plain": [
              "School DBN      object\n",
              "School Name     object\n",
              "School Level    object\n",
              "Regents Exam    object\n",
              "Year             int64\n",
              "Total Tested     int64\n",
              "Mean Score       int64\n",
              "dtype: object"
            ]
          },
          "metadata": {
            "tags": []
          },
          "execution_count": 69
        }
      ]
    },
    {
      "cell_type": "code",
      "metadata": {
        "colab": {
          "base_uri": "https://localhost:8080/"
        },
        "id": "G0i9df0C07GW",
        "outputId": "4ad208aa-bcae-40ed-c3b6-32e6f687cf8b"
      },
      "source": [
        "#mean values John Bowne High School \n",
        "df3.mean()"
      ],
      "execution_count": 70,
      "outputs": [
        {
          "output_type": "execute_result",
          "data": {
            "text/plain": [
              "Year            2016.000000\n",
              "Total Tested     356.153846\n",
              "Mean Score        72.871795\n",
              "dtype: float64"
            ]
          },
          "metadata": {
            "tags": []
          },
          "execution_count": 70
        }
      ]
    },
    {
      "cell_type": "code",
      "metadata": {
        "colab": {
          "base_uri": "https://localhost:8080/"
        },
        "id": "biOfXaol1UKJ",
        "outputId": "fd7f25b9-5377-4cdb-a1d5-fc1e72370464"
      },
      "source": [
        "#mode score\n",
        "df3['Mean Score'].mode()"
      ],
      "execution_count": 71,
      "outputs": [
        {
          "output_type": "execute_result",
          "data": {
            "text/plain": [
              "0    74\n",
              "dtype: int64"
            ]
          },
          "metadata": {
            "tags": []
          },
          "execution_count": 71
        }
      ]
    },
    {
      "cell_type": "code",
      "metadata": {
        "colab": {
          "base_uri": "https://localhost:8080/",
          "height": 312
        },
        "id": "qzSIO_Vx1gJT",
        "outputId": "b0586192-c433-43ff-f38b-4af885e9f276"
      },
      "source": [
        "#Plot relationship between Year and Mean Score JBHS\n",
        "# in which year did students score higher?\n",
        "sns. barplot(x='Year', y= 'Mean Score', data=df3)\n",
        "#change plot title \n",
        "plt.title(\"U.S. History & Governement Mean Scores JBHS\")\n"
      ],
      "execution_count": 114,
      "outputs": [
        {
          "output_type": "execute_result",
          "data": {
            "text/plain": [
              "Text(0.5, 1.0, 'U.S. History & Governement Mean Scores JBHS')"
            ]
          },
          "metadata": {
            "tags": []
          },
          "execution_count": 114
        },
        {
          "output_type": "display_data",
          "data": {
            "image/png": "[encoded data removed]",
            "text/plain": [
              "<Figure size 432x288 with 1 Axes>"
            ]
          },
          "metadata": {
            "tags": [],
            "needs_background": "light"
          }
        }
      ]
    },
    {
      "cell_type": "code",
      "metadata": {
        "colab": {
          "base_uri": "https://localhost:8080/",
          "height": 312
        },
        "id": "LgCs_RnIt3L6",
        "outputId": "21236cd0-904f-4f5d-9693-ad32cfaf4135"
      },
      "source": [
        "#Plot relationship between Year and Total Tested \n",
        "sns. barplot(x='Year', y= 'Total Tested', data=df3)\n",
        "#change plot title \n",
        "plt.title(\"Number of Students Tested- U.S. History & Governement JBHS\")"
      ],
      "execution_count": 115,
      "outputs": [
        {
          "output_type": "execute_result",
          "data": {
            "text/plain": [
              "Text(0.5, 1.0, 'Number of Students Tested- U.S. History & Governement JBHS')"
            ]
          },
          "metadata": {
            "tags": []
          },
          "execution_count": 115
        },
        {
          "output_type": "display_data",
          "data": {
            "image/png": "[encoded data removed]",
            "text/plain": [
              "<Figure size 432x288 with 1 Axes>"
            ]
          },
          "metadata": {
            "tags": [],
            "needs_background": "light"
          }
        }
      ]
    },
    {
      "cell_type": "code",
      "metadata": {
        "id": "mI_yTXbg1pn1"
      },
      "source": [
        "#compare both dataframes \n",
        "df4= pd.concat([df2, df3])\n",
        "\n"
      ],
      "execution_count": 72,
      "outputs": []
    },
    {
      "cell_type": "code",
      "metadata": {
        "colab": {
          "base_uri": "https://localhost:8080/",
          "height": 454
        },
        "id": "LlT29j2e3yoG",
        "outputId": "32151b5b-93e8-4570-a5b3-ce23988016b0"
      },
      "source": [
        "#plot both dataframes\n",
        "\n",
        "sns.factorplot(x='Total Tested', y='Mean Score', hue='Year', data=df4)\n"
      ],
      "execution_count": 73,
      "outputs": [
        {
          "output_type": "stream",
          "text": [
            "/usr/local/lib/python3.7/dist-packages/seaborn/categorical.py:3714: UserWarning: The `factorplot` function has been renamed to `catplot`. The original name will be removed in a future release. Please update your code. Note that the default `kind` in `factorplot` (`'point'`) has changed `'strip'` in `catplot`.\n",
            "  warnings.warn(msg)\n"
          ],
          "name": "stderr"
        },
        {
          "output_type": "execute_result",
          "data": {
            "text/plain": [
              "<seaborn.axisgrid.FacetGrid at 0x7fb5eb566210>"
            ]
          },
          "metadata": {
            "tags": []
          },
          "execution_count": 73
        },
        {
          "output_type": "display_data",
          "data": {
            "image/png": "[encoded data removed]",
            "text/plain": [
              "<Figure size 421.375x360 with 1 Axes>"
            ]
          },
          "metadata": {
            "tags": [],
            "needs_background": "light"
          }
        }
      ]
    },
    {
      "cell_type": "code",
      "metadata": {
        "colab": {
          "base_uri": "https://localhost:8080/",
          "height": 400
        },
        "id": "pJeph69O9Fll",
        "outputId": "13b756c1-7dbb-4905-9ef3-7c719b58ea29"
      },
      "source": [
        "sns.lmplot(x='Total Tested', y='Mean Score', hue='Year', data=df4)"
      ],
      "execution_count": null,
      "outputs": [
        {
          "output_type": "execute_result",
          "data": {
            "text/plain": [
              "<seaborn.axisgrid.FacetGrid at 0x7fba55d42e10>"
            ]
          },
          "metadata": {
            "tags": []
          },
          "execution_count": 270
        },
        {
          "output_type": "display_data",
          "data": {
            "image/png": "[encoded data removed]",
            "text/plain": [
              "<Figure size 421.375x360 with 1 Axes>"
            ]
          },
          "metadata": {
            "tags": [],
            "needs_background": "light"
          }
        }
      ]
    },
    {
      "cell_type": "code",
      "metadata": {
        "colab": {
          "base_uri": "https://localhost:8080/"
        },
        "id": "npSZDCFwdzrU",
        "outputId": "05279b55-203c-4e6a-e443-dd0fd3cac09a"
      },
      "source": [
        "#since I wasn't able to generate a merged data frame \n",
        "#I create a new table with desired values \n",
        "#Mean Score \n",
        "data= {'School':['Forest Hills HS', 'John Bowne HS'], 'Mean Score':[80, 73]}\n",
        "df5=pd.DataFrame(data)\n",
        "print (df5)"
      ],
      "execution_count": 74,
      "outputs": [
        {
          "output_type": "stream",
          "text": [
            "            School  Mean Score\n",
            "0  Forest Hills HS          80\n",
            "1    John Bowne HS          73\n"
          ],
          "name": "stdout"
        }
      ]
    },
    {
      "cell_type": "code",
      "metadata": {
        "colab": {
          "base_uri": "https://localhost:8080/",
          "height": 312
        },
        "id": "3rkm7i68id6K",
        "outputId": "ad59d763-71ed-46ba-8ecd-fd5f71492b92"
      },
      "source": [
        "#plot mean score \n",
        "#FHHS vs JBHS\n",
        "sns.barplot(x=\"School\", y= 'Mean Score', data=df5) \n",
        "#change tittle \n",
        "plt.title(\"U.S. History & Governement Mean Score Comparison\")\n"
      ],
      "execution_count": 116,
      "outputs": [
        {
          "output_type": "execute_result",
          "data": {
            "text/plain": [
              "Text(0.5, 1.0, 'U.S. History & Governement Mean Score Comparison')"
            ]
          },
          "metadata": {
            "tags": []
          },
          "execution_count": 116
        },
        {
          "output_type": "display_data",
          "data": {
            "image/png": "[encoded data removed]",
            "text/plain": [
              "<Figure size 432x288 with 1 Axes>"
            ]
          },
          "metadata": {
            "tags": [],
            "needs_background": "light"
          }
        }
      ]
    },
    {
      "cell_type": "code",
      "metadata": {
        "colab": {
          "base_uri": "https://localhost:8080/"
        },
        "id": "RaG7IC3fjJvs",
        "outputId": "cf0152e5-e33b-4099-b71d-17aaf6ad3430"
      },
      "source": [
        "#Total Taken\n",
        "data= {'School':['Forest Hills HS', 'John Bowne HS'], 'Total Taken':[367, 356]}\n",
        "df6=pd.DataFrame(data)\n",
        "print (df6)"
      ],
      "execution_count": 76,
      "outputs": [
        {
          "output_type": "stream",
          "text": [
            "            School  Total Taken\n",
            "0  Forest Hills HS          367\n",
            "1    John Bowne HS          356\n"
          ],
          "name": "stdout"
        }
      ]
    },
    {
      "cell_type": "code",
      "metadata": {
        "colab": {
          "base_uri": "https://localhost:8080/",
          "height": 312
        },
        "id": "BSI9FCIfj0HY",
        "outputId": "8e8241c9-792e-41cb-ef57-28d1c12abd7e"
      },
      "source": [
        "#plot Total Taken \n",
        "#FHHS vs JBHS\n",
        "sns.barplot(x=\"School\", y= 'Total Taken', data=df6) \n",
        "#change tittle \n",
        "plt.title(\"Number of Students Tested- U.S. History & Governement Comparison\")"
      ],
      "execution_count": 117,
      "outputs": [
        {
          "output_type": "execute_result",
          "data": {
            "text/plain": [
              "Text(0.5, 1.0, 'Number of Students Tested- U.S. History & Governement Comparison')"
            ]
          },
          "metadata": {
            "tags": []
          },
          "execution_count": 117
        },
        {
          "output_type": "display_data",
          "data": {
            "image/png": "[encoded data removed]",
            "text/plain": [
              "<Figure size 432x288 with 1 Axes>"
            ]
          },
          "metadata": {
            "tags": [],
            "needs_background": "light"
          }
        }
      ]
    }
  ]
}